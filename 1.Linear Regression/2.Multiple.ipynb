{
 "cells": [
  {
   "cell_type": "code",
   "execution_count": 52,
   "metadata": {},
   "outputs": [],
   "source": [
    "import pandas  as pd \n",
    "import numpy as np\n",
    "import matplotlib.pyplot as plt\n",
    "import seaborn as sns \n",
    "import time\n",
    "\n",
    "from sklearn.preprocessing import StandardScaler\n",
    "from sklearn.impute import SimpleImputer\n",
    "from sklearn.model_selection import train_test_split, cross_val_score\n",
    "from sklearn.linear_model import LinearRegression \n",
    "from sklearn.metrics import mean_absolute_error, mean_squared_error,r2_score,max_error\n",
    "from sklearn.preprocessing import OneHotEncoder\n",
    "from sklearn.pipeline import Pipeline\n",
    "from sklearn.compose import ColumnTransformer"
   ]
  },
  {
   "cell_type": "code",
   "execution_count": 53,
   "metadata": {},
   "outputs": [
    {
     "data": {
      "text/html": [
       "<div>\n",
       "<style scoped>\n",
       "    .dataframe tbody tr th:only-of-type {\n",
       "        vertical-align: middle;\n",
       "    }\n",
       "\n",
       "    .dataframe tbody tr th {\n",
       "        vertical-align: top;\n",
       "    }\n",
       "\n",
       "    .dataframe thead th {\n",
       "        text-align: right;\n",
       "    }\n",
       "</style>\n",
       "<table border=\"1\" class=\"dataframe\">\n",
       "  <thead>\n",
       "    <tr style=\"text-align: right;\">\n",
       "      <th></th>\n",
       "      <th>year</th>\n",
       "      <th>make</th>\n",
       "      <th>model</th>\n",
       "      <th>trim</th>\n",
       "      <th>body</th>\n",
       "      <th>transmission</th>\n",
       "      <th>vin</th>\n",
       "      <th>state</th>\n",
       "      <th>condition</th>\n",
       "      <th>odometer</th>\n",
       "      <th>color</th>\n",
       "      <th>interior</th>\n",
       "      <th>seller</th>\n",
       "      <th>mmr</th>\n",
       "      <th>sellingprice</th>\n",
       "      <th>sale_day</th>\n",
       "      <th>sale_date</th>\n",
       "    </tr>\n",
       "  </thead>\n",
       "  <tbody>\n",
       "    <tr>\n",
       "      <th>0</th>\n",
       "      <td>2015</td>\n",
       "      <td>Chevrolet</td>\n",
       "      <td>Impala</td>\n",
       "      <td>LTZ</td>\n",
       "      <td>Sedan</td>\n",
       "      <td>automatic</td>\n",
       "      <td>2g1165s30f9103921</td>\n",
       "      <td>ca</td>\n",
       "      <td>19.000000</td>\n",
       "      <td>14538.0</td>\n",
       "      <td>silver</td>\n",
       "      <td>black</td>\n",
       "      <td>enterprise vehicle exchange / tra / rental / t...</td>\n",
       "      <td>24300.0</td>\n",
       "      <td>7200.0</td>\n",
       "      <td>Tue</td>\n",
       "      <td>2015-07-07 09:30:00</td>\n",
       "    </tr>\n",
       "    <tr>\n",
       "      <th>1</th>\n",
       "      <td>2014</td>\n",
       "      <td>BMW</td>\n",
       "      <td>5 Series</td>\n",
       "      <td>528i</td>\n",
       "      <td>Sedan</td>\n",
       "      <td>automatic</td>\n",
       "      <td>wba5a5c51ed501631</td>\n",
       "      <td>ca</td>\n",
       "      <td>29.000000</td>\n",
       "      <td>25969.0</td>\n",
       "      <td>black</td>\n",
       "      <td>black</td>\n",
       "      <td>financial services remarketing (lease)</td>\n",
       "      <td>34200.0</td>\n",
       "      <td>30000.0</td>\n",
       "      <td>Tue</td>\n",
       "      <td>2015-02-03 04:30:00</td>\n",
       "    </tr>\n",
       "    <tr>\n",
       "      <th>2</th>\n",
       "      <td>2014</td>\n",
       "      <td>Chevrolet</td>\n",
       "      <td>Camaro</td>\n",
       "      <td>LT</td>\n",
       "      <td>Convertible</td>\n",
       "      <td>automatic</td>\n",
       "      <td>2g1fb3d31e9134662</td>\n",
       "      <td>ca</td>\n",
       "      <td>30.672365</td>\n",
       "      <td>33450.0</td>\n",
       "      <td>black</td>\n",
       "      <td>black</td>\n",
       "      <td>avis rac/san leandro</td>\n",
       "      <td>20100.0</td>\n",
       "      <td>14700.0</td>\n",
       "      <td>Tue</td>\n",
       "      <td>2014-12-16 12:00:00</td>\n",
       "    </tr>\n",
       "    <tr>\n",
       "      <th>3</th>\n",
       "      <td>2015</td>\n",
       "      <td>Audi</td>\n",
       "      <td>A3</td>\n",
       "      <td>1.8 TFSI Premium</td>\n",
       "      <td>Sedan</td>\n",
       "      <td>automatic</td>\n",
       "      <td>wauacgff7f1002327</td>\n",
       "      <td>ca</td>\n",
       "      <td>49.000000</td>\n",
       "      <td>5826.0</td>\n",
       "      <td>gray</td>\n",
       "      <td>black</td>\n",
       "      <td>audi north scottsdale</td>\n",
       "      <td>24000.0</td>\n",
       "      <td>23750.0</td>\n",
       "      <td>Thu</td>\n",
       "      <td>2014-12-18 12:30:00</td>\n",
       "    </tr>\n",
       "    <tr>\n",
       "      <th>4</th>\n",
       "      <td>2014</td>\n",
       "      <td>BMW</td>\n",
       "      <td>6 Series</td>\n",
       "      <td>650i</td>\n",
       "      <td>Convertible</td>\n",
       "      <td>automatic</td>\n",
       "      <td>wbayp9c57ed169262</td>\n",
       "      <td>ca</td>\n",
       "      <td>38.000000</td>\n",
       "      <td>10736.0</td>\n",
       "      <td>black</td>\n",
       "      <td>black</td>\n",
       "      <td>the hertz corporation</td>\n",
       "      <td>67000.0</td>\n",
       "      <td>65000.0</td>\n",
       "      <td>Tue</td>\n",
       "      <td>2015-01-06 12:30:00</td>\n",
       "    </tr>\n",
       "  </tbody>\n",
       "</table>\n",
       "</div>"
      ],
      "text/plain": [
       "   year       make     model              trim         body transmission  \\\n",
       "0  2015  Chevrolet    Impala               LTZ        Sedan    automatic   \n",
       "1  2014        BMW  5 Series              528i        Sedan    automatic   \n",
       "2  2014  Chevrolet    Camaro                LT  Convertible    automatic   \n",
       "3  2015       Audi        A3  1.8 TFSI Premium        Sedan    automatic   \n",
       "4  2014        BMW  6 Series              650i  Convertible    automatic   \n",
       "\n",
       "                 vin state  condition  odometer   color interior  \\\n",
       "0  2g1165s30f9103921    ca  19.000000   14538.0  silver    black   \n",
       "1  wba5a5c51ed501631    ca  29.000000   25969.0   black    black   \n",
       "2  2g1fb3d31e9134662    ca  30.672365   33450.0   black    black   \n",
       "3  wauacgff7f1002327    ca  49.000000    5826.0    gray    black   \n",
       "4  wbayp9c57ed169262    ca  38.000000   10736.0   black    black   \n",
       "\n",
       "                                              seller      mmr  sellingprice  \\\n",
       "0  enterprise vehicle exchange / tra / rental / t...  24300.0        7200.0   \n",
       "1             financial services remarketing (lease)  34200.0       30000.0   \n",
       "2                               avis rac/san leandro  20100.0       14700.0   \n",
       "3                              audi north scottsdale  24000.0       23750.0   \n",
       "4                              the hertz corporation  67000.0       65000.0   \n",
       "\n",
       "  sale_day            sale_date  \n",
       "0      Tue  2015-07-07 09:30:00  \n",
       "1      Tue  2015-02-03 04:30:00  \n",
       "2      Tue  2014-12-16 12:00:00  \n",
       "3      Thu  2014-12-18 12:30:00  \n",
       "4      Tue  2015-01-06 12:30:00  "
      ]
     },
     "execution_count": 53,
     "metadata": {},
     "output_type": "execute_result"
    }
   ],
   "source": [
    "### to use full dataset comment off following line\n",
    "\n",
    "# cat_dataset = pd.read_csv(\"../0.Datasets/processed/processed_car_data.csv\") # Full DataSet\n",
    "cat_dataset = pd.read_csv(\"../0.Datasets/processed/sliced_car_data.csv\")\n",
    "cat_dataset.head()"
   ]
  },
  {
   "cell_type": "code",
   "execution_count": 54,
   "metadata": {},
   "outputs": [
    {
     "data": {
      "text/html": [
       "<div>\n",
       "<style scoped>\n",
       "    .dataframe tbody tr th:only-of-type {\n",
       "        vertical-align: middle;\n",
       "    }\n",
       "\n",
       "    .dataframe tbody tr th {\n",
       "        vertical-align: top;\n",
       "    }\n",
       "\n",
       "    .dataframe thead th {\n",
       "        text-align: right;\n",
       "    }\n",
       "</style>\n",
       "<table border=\"1\" class=\"dataframe\">\n",
       "  <thead>\n",
       "    <tr style=\"text-align: right;\">\n",
       "      <th></th>\n",
       "      <th>make</th>\n",
       "      <th>condition</th>\n",
       "      <th>odometer</th>\n",
       "      <th>mmr</th>\n",
       "    </tr>\n",
       "  </thead>\n",
       "  <tbody>\n",
       "    <tr>\n",
       "      <th>0</th>\n",
       "      <td>Chevrolet</td>\n",
       "      <td>19.000000</td>\n",
       "      <td>14538.0</td>\n",
       "      <td>24300.0</td>\n",
       "    </tr>\n",
       "    <tr>\n",
       "      <th>1</th>\n",
       "      <td>BMW</td>\n",
       "      <td>29.000000</td>\n",
       "      <td>25969.0</td>\n",
       "      <td>34200.0</td>\n",
       "    </tr>\n",
       "    <tr>\n",
       "      <th>2</th>\n",
       "      <td>Chevrolet</td>\n",
       "      <td>30.672365</td>\n",
       "      <td>33450.0</td>\n",
       "      <td>20100.0</td>\n",
       "    </tr>\n",
       "    <tr>\n",
       "      <th>3</th>\n",
       "      <td>Audi</td>\n",
       "      <td>49.000000</td>\n",
       "      <td>5826.0</td>\n",
       "      <td>24000.0</td>\n",
       "    </tr>\n",
       "    <tr>\n",
       "      <th>4</th>\n",
       "      <td>BMW</td>\n",
       "      <td>38.000000</td>\n",
       "      <td>10736.0</td>\n",
       "      <td>67000.0</td>\n",
       "    </tr>\n",
       "    <tr>\n",
       "      <th>5</th>\n",
       "      <td>Hyundai</td>\n",
       "      <td>30.672365</td>\n",
       "      <td>9281.0</td>\n",
       "      <td>15150.0</td>\n",
       "    </tr>\n",
       "    <tr>\n",
       "      <th>6</th>\n",
       "      <td>Volvo</td>\n",
       "      <td>42.000000</td>\n",
       "      <td>16506.0</td>\n",
       "      <td>32100.0</td>\n",
       "    </tr>\n",
       "    <tr>\n",
       "      <th>7</th>\n",
       "      <td>Volvo</td>\n",
       "      <td>48.000000</td>\n",
       "      <td>12725.0</td>\n",
       "      <td>32300.0</td>\n",
       "    </tr>\n",
       "    <tr>\n",
       "      <th>8</th>\n",
       "      <td>BMW</td>\n",
       "      <td>30.672365</td>\n",
       "      <td>11278.0</td>\n",
       "      <td>50400.0</td>\n",
       "    </tr>\n",
       "    <tr>\n",
       "      <th>9</th>\n",
       "      <td>Chevrolet</td>\n",
       "      <td>42.000000</td>\n",
       "      <td>11874.0</td>\n",
       "      <td>22200.0</td>\n",
       "    </tr>\n",
       "    <tr>\n",
       "      <th>10</th>\n",
       "      <td>Chevrolet</td>\n",
       "      <td>42.000000</td>\n",
       "      <td>37888.0</td>\n",
       "      <td>11600.0</td>\n",
       "    </tr>\n",
       "    <tr>\n",
       "      <th>11</th>\n",
       "      <td>Audi</td>\n",
       "      <td>42.000000</td>\n",
       "      <td>9606.0</td>\n",
       "      <td>48600.0</td>\n",
       "    </tr>\n",
       "    <tr>\n",
       "      <th>12</th>\n",
       "      <td>Kia</td>\n",
       "      <td>5.000000</td>\n",
       "      <td>13757.0</td>\n",
       "      <td>20600.0</td>\n",
       "    </tr>\n",
       "    <tr>\n",
       "      <th>13</th>\n",
       "      <td>Audi</td>\n",
       "      <td>38.000000</td>\n",
       "      <td>5875.0</td>\n",
       "      <td>46500.0</td>\n",
       "    </tr>\n",
       "    <tr>\n",
       "      <th>14</th>\n",
       "      <td>Kia</td>\n",
       "      <td>44.000000</td>\n",
       "      <td>12862.0</td>\n",
       "      <td>20700.0</td>\n",
       "    </tr>\n",
       "    <tr>\n",
       "      <th>15</th>\n",
       "      <td>Buick</td>\n",
       "      <td>2.000000</td>\n",
       "      <td>19531.0</td>\n",
       "      <td>15000.0</td>\n",
       "    </tr>\n",
       "    <tr>\n",
       "      <th>16</th>\n",
       "      <td>Chevrolet</td>\n",
       "      <td>45.000000</td>\n",
       "      <td>11426.0</td>\n",
       "      <td>57300.0</td>\n",
       "    </tr>\n",
       "    <tr>\n",
       "      <th>17</th>\n",
       "      <td>BMW</td>\n",
       "      <td>5.000000</td>\n",
       "      <td>111.0</td>\n",
       "      <td>32200.0</td>\n",
       "    </tr>\n",
       "    <tr>\n",
       "      <th>18</th>\n",
       "      <td>BMW</td>\n",
       "      <td>38.000000</td>\n",
       "      <td>16360.0</td>\n",
       "      <td>65000.0</td>\n",
       "    </tr>\n",
       "    <tr>\n",
       "      <th>19</th>\n",
       "      <td>BMW</td>\n",
       "      <td>45.000000</td>\n",
       "      <td>9027.0</td>\n",
       "      <td>30200.0</td>\n",
       "    </tr>\n",
       "  </tbody>\n",
       "</table>\n",
       "</div>"
      ],
      "text/plain": [
       "         make  condition  odometer      mmr\n",
       "0   Chevrolet  19.000000   14538.0  24300.0\n",
       "1         BMW  29.000000   25969.0  34200.0\n",
       "2   Chevrolet  30.672365   33450.0  20100.0\n",
       "3        Audi  49.000000    5826.0  24000.0\n",
       "4         BMW  38.000000   10736.0  67000.0\n",
       "5     Hyundai  30.672365    9281.0  15150.0\n",
       "6       Volvo  42.000000   16506.0  32100.0\n",
       "7       Volvo  48.000000   12725.0  32300.0\n",
       "8         BMW  30.672365   11278.0  50400.0\n",
       "9   Chevrolet  42.000000   11874.0  22200.0\n",
       "10  Chevrolet  42.000000   37888.0  11600.0\n",
       "11       Audi  42.000000    9606.0  48600.0\n",
       "12        Kia   5.000000   13757.0  20600.0\n",
       "13       Audi  38.000000    5875.0  46500.0\n",
       "14        Kia  44.000000   12862.0  20700.0\n",
       "15      Buick   2.000000   19531.0  15000.0\n",
       "16  Chevrolet  45.000000   11426.0  57300.0\n",
       "17        BMW   5.000000     111.0  32200.0\n",
       "18        BMW  38.000000   16360.0  65000.0\n",
       "19        BMW  45.000000    9027.0  30200.0"
      ]
     },
     "execution_count": 54,
     "metadata": {},
     "output_type": "execute_result"
    }
   ],
   "source": [
    "x = cat_dataset[['make','condition','odometer','mmr']]\n",
    "x"
   ]
  },
  {
   "cell_type": "code",
   "execution_count": 55,
   "metadata": {},
   "outputs": [
    {
     "data": {
      "text/plain": [
       "0      7200.0\n",
       "1     30000.0\n",
       "2     14700.0\n",
       "3     23750.0\n",
       "4     65000.0\n",
       "5      8500.0\n",
       "6     32500.0\n",
       "7     32500.0\n",
       "8     34000.0\n",
       "9     19500.0\n",
       "10    11500.0\n",
       "11    47500.0\n",
       "12    20750.0\n",
       "13    44500.0\n",
       "14    21000.0\n",
       "15     9200.0\n",
       "16    59900.0\n",
       "17    30500.0\n",
       "18    64250.0\n",
       "19    27500.0\n",
       "Name: sellingprice, dtype: float64"
      ]
     },
     "execution_count": 55,
     "metadata": {},
     "output_type": "execute_result"
    }
   ],
   "source": [
    "y = cat_dataset['sellingprice']\n",
    "y"
   ]
  },
  {
   "cell_type": "code",
   "execution_count": 56,
   "metadata": {},
   "outputs": [],
   "source": [
    "\n",
    "# x_train, x_test, y_train, y_test = train_test_split(x,ytest_size = 0.3, random_state = 0)\n",
    "\n",
    "x_train, x_test, y_train, y_test = train_test_split(x,y,test_size = 0.4, random_state = 0)"
   ]
  },
  {
   "cell_type": "code",
   "execution_count": 57,
   "metadata": {},
   "outputs": [
    {
     "data": {
      "text/html": [
       "<div>\n",
       "<style scoped>\n",
       "    .dataframe tbody tr th:only-of-type {\n",
       "        vertical-align: middle;\n",
       "    }\n",
       "\n",
       "    .dataframe tbody tr th {\n",
       "        vertical-align: top;\n",
       "    }\n",
       "\n",
       "    .dataframe thead th {\n",
       "        text-align: right;\n",
       "    }\n",
       "</style>\n",
       "<table border=\"1\" class=\"dataframe\">\n",
       "  <thead>\n",
       "    <tr style=\"text-align: right;\">\n",
       "      <th></th>\n",
       "      <th>make</th>\n",
       "      <th>condition</th>\n",
       "      <th>odometer</th>\n",
       "      <th>mmr</th>\n",
       "    </tr>\n",
       "  </thead>\n",
       "  <tbody>\n",
       "    <tr>\n",
       "      <th>4</th>\n",
       "      <td>BMW</td>\n",
       "      <td>38.000000</td>\n",
       "      <td>10736.0</td>\n",
       "      <td>67000.0</td>\n",
       "    </tr>\n",
       "    <tr>\n",
       "      <th>2</th>\n",
       "      <td>Chevrolet</td>\n",
       "      <td>30.672365</td>\n",
       "      <td>33450.0</td>\n",
       "      <td>20100.0</td>\n",
       "    </tr>\n",
       "    <tr>\n",
       "      <th>5</th>\n",
       "      <td>Hyundai</td>\n",
       "      <td>30.672365</td>\n",
       "      <td>9281.0</td>\n",
       "      <td>15150.0</td>\n",
       "    </tr>\n",
       "    <tr>\n",
       "      <th>14</th>\n",
       "      <td>Kia</td>\n",
       "      <td>44.000000</td>\n",
       "      <td>12862.0</td>\n",
       "      <td>20700.0</td>\n",
       "    </tr>\n",
       "    <tr>\n",
       "      <th>9</th>\n",
       "      <td>Chevrolet</td>\n",
       "      <td>42.000000</td>\n",
       "      <td>11874.0</td>\n",
       "      <td>22200.0</td>\n",
       "    </tr>\n",
       "    <tr>\n",
       "      <th>7</th>\n",
       "      <td>Volvo</td>\n",
       "      <td>48.000000</td>\n",
       "      <td>12725.0</td>\n",
       "      <td>32300.0</td>\n",
       "    </tr>\n",
       "    <tr>\n",
       "      <th>16</th>\n",
       "      <td>Chevrolet</td>\n",
       "      <td>45.000000</td>\n",
       "      <td>11426.0</td>\n",
       "      <td>57300.0</td>\n",
       "    </tr>\n",
       "    <tr>\n",
       "      <th>11</th>\n",
       "      <td>Audi</td>\n",
       "      <td>42.000000</td>\n",
       "      <td>9606.0</td>\n",
       "      <td>48600.0</td>\n",
       "    </tr>\n",
       "    <tr>\n",
       "      <th>3</th>\n",
       "      <td>Audi</td>\n",
       "      <td>49.000000</td>\n",
       "      <td>5826.0</td>\n",
       "      <td>24000.0</td>\n",
       "    </tr>\n",
       "    <tr>\n",
       "      <th>0</th>\n",
       "      <td>Chevrolet</td>\n",
       "      <td>19.000000</td>\n",
       "      <td>14538.0</td>\n",
       "      <td>24300.0</td>\n",
       "    </tr>\n",
       "    <tr>\n",
       "      <th>15</th>\n",
       "      <td>Buick</td>\n",
       "      <td>2.000000</td>\n",
       "      <td>19531.0</td>\n",
       "      <td>15000.0</td>\n",
       "    </tr>\n",
       "    <tr>\n",
       "      <th>12</th>\n",
       "      <td>Kia</td>\n",
       "      <td>5.000000</td>\n",
       "      <td>13757.0</td>\n",
       "      <td>20600.0</td>\n",
       "    </tr>\n",
       "  </tbody>\n",
       "</table>\n",
       "</div>"
      ],
      "text/plain": [
       "         make  condition  odometer      mmr\n",
       "4         BMW  38.000000   10736.0  67000.0\n",
       "2   Chevrolet  30.672365   33450.0  20100.0\n",
       "5     Hyundai  30.672365    9281.0  15150.0\n",
       "14        Kia  44.000000   12862.0  20700.0\n",
       "9   Chevrolet  42.000000   11874.0  22200.0\n",
       "7       Volvo  48.000000   12725.0  32300.0\n",
       "16  Chevrolet  45.000000   11426.0  57300.0\n",
       "11       Audi  42.000000    9606.0  48600.0\n",
       "3        Audi  49.000000    5826.0  24000.0\n",
       "0   Chevrolet  19.000000   14538.0  24300.0\n",
       "15      Buick   2.000000   19531.0  15000.0\n",
       "12        Kia   5.000000   13757.0  20600.0"
      ]
     },
     "execution_count": 57,
     "metadata": {},
     "output_type": "execute_result"
    }
   ],
   "source": [
    "x_train"
   ]
  },
  {
   "cell_type": "code",
   "execution_count": 58,
   "metadata": {},
   "outputs": [
    {
     "data": {
      "text/plain": [
       "4     65000.0\n",
       "2     14700.0\n",
       "5      8500.0\n",
       "14    21000.0\n",
       "9     19500.0\n",
       "7     32500.0\n",
       "16    59900.0\n",
       "11    47500.0\n",
       "3     23750.0\n",
       "0      7200.0\n",
       "15     9200.0\n",
       "12    20750.0\n",
       "Name: sellingprice, dtype: float64"
      ]
     },
     "execution_count": 58,
     "metadata": {},
     "output_type": "execute_result"
    }
   ],
   "source": [
    "y_train"
   ]
  },
  {
   "cell_type": "code",
   "execution_count": 59,
   "metadata": {},
   "outputs": [],
   "source": [
    "numeric = ['condition','mmr','odometer']\n",
    "numeric_transformer = Pipeline(steps = [\n",
    "    ('imputer', SimpleImputer(strategy ='mean')),\n",
    "    ('scaler', StandardScaler())\n",
    "])\n"
   ]
  },
  {
   "cell_type": "code",
   "execution_count": 60,
   "metadata": {},
   "outputs": [],
   "source": [
    "categorical = ['make']\n",
    "categorical_transformer = Pipeline(steps = [\n",
    "    ('onehot', OneHotEncoder(drop = 'first'))\n",
    "])"
   ]
  },
  {
   "cell_type": "code",
   "execution_count": 61,
   "metadata": {},
   "outputs": [],
   "source": [
    "preprocessor = ColumnTransformer(\n",
    "        transformers =[\n",
    "            ('num',numeric_transformer, numeric ),\n",
    "            ('cat',categorical_transformer, categorical ),\n",
    "        ]\n",
    "        \n",
    ")"
   ]
  },
  {
   "cell_type": "code",
   "execution_count": 62,
   "metadata": {},
   "outputs": [],
   "source": [
    "x_train_processed = preprocessor.fit_transform(x_train)\n",
    "x_test_processed = preprocessor.transform(x_test)"
   ]
  },
  {
   "cell_type": "code",
   "execution_count": 63,
   "metadata": {},
   "outputs": [
    {
     "data": {
      "text/plain": [
       "array([[ 0.32600185,  2.19180689, -0.45611081,  1.        ,  0.        ,\n",
       "         0.        ,  0.        ,  0.        ,  0.        ],\n",
       "       [-0.14660129, -0.63257529,  2.92402003,  0.        ,  0.        ,\n",
       "         1.        ,  0.        ,  0.        ,  0.        ],\n",
       "       [-0.14660129, -0.93067107, -0.67263324,  0.        ,  0.        ,\n",
       "         0.        ,  1.        ,  0.        ,  0.        ],\n",
       "       [ 0.71297784, -0.59644247, -0.13973509,  0.        ,  0.        ,\n",
       "         0.        ,  0.        ,  1.        ,  0.        ],\n",
       "       [ 0.58398584, -0.50611042, -0.286762  ,  0.        ,  0.        ,\n",
       "         1.        ,  0.        ,  0.        ,  0.        ],\n",
       "       [ 0.97096183,  0.1021254 , -0.16012243,  0.        ,  0.        ,\n",
       "         0.        ,  0.        ,  0.        ,  1.        ],\n",
       "       [ 0.77747384,  1.60765962, -0.35343008,  0.        ,  0.        ,\n",
       "         1.        ,  0.        ,  0.        ,  0.        ],\n",
       "       [ 0.58398584,  1.08373371, -0.62426912,  0.        ,  0.        ,\n",
       "         0.        ,  0.        ,  0.        ,  0.        ],\n",
       "       [ 1.03545783, -0.39771195, -1.18678099,  0.        ,  0.        ,\n",
       "         0.        ,  0.        ,  0.        ,  0.        ],\n",
       "       [-0.89942212, -0.37964554,  0.10967493,  0.        ,  0.        ,\n",
       "         1.        ,  0.        ,  0.        ,  0.        ],\n",
       "       [-1.99585409, -0.93970427,  0.85269656,  0.        ,  1.        ,\n",
       "         0.        ,  0.        ,  0.        ,  0.        ],\n",
       "       [-1.80236609, -0.60246461, -0.00654776,  0.        ,  0.        ,\n",
       "         0.        ,  0.        ,  1.        ,  0.        ]])"
      ]
     },
     "execution_count": 63,
     "metadata": {},
     "output_type": "execute_result"
    }
   ],
   "source": [
    "x_train_processed"
   ]
  },
  {
   "cell_type": "code",
   "execution_count": 64,
   "metadata": {},
   "outputs": [],
   "source": [
    "regressor = LinearRegression()"
   ]
  },
  {
   "cell_type": "code",
   "execution_count": 65,
   "metadata": {},
   "outputs": [
    {
     "name": "stdout",
     "output_type": "stream",
     "text": [
      "execution time 0.0029449462890625\n"
     ]
    }
   ],
   "source": [
    "\n",
    "strat_time = time.time()\n",
    "\n",
    "regressor.fit(x_train_processed, y_train)\n",
    "\n",
    "end_time = time.time()\n",
    "\n",
    "print(f\"execution time {end_time - strat_time}\")"
   ]
  },
  {
   "cell_type": "code",
   "execution_count": 66,
   "metadata": {},
   "outputs": [
    {
     "data": {
      "text/plain": [
       "array([63328.15441425, 26211.07979992, 22877.15776148, 43892.16408666,\n",
       "        6610.30942759, 15495.97436204, 31429.23496653, 45814.73163224])"
      ]
     },
     "execution_count": 66,
     "metadata": {},
     "output_type": "execute_result"
    }
   ],
   "source": [
    "Y_predict = regressor.predict(x_test_processed)\n",
    "Y_predict"
   ]
  },
  {
   "cell_type": "code",
   "execution_count": 67,
   "metadata": {},
   "outputs": [
    {
     "name": "stdout",
     "output_type": "stream",
     "text": [
      "[64250. 30000. 27500. 34000. 11500. 30500. 32500. 44500.]\n"
     ]
    }
   ],
   "source": [
    "print(np.array(y_test))"
   ]
  },
  {
   "cell_type": "code",
   "execution_count": 68,
   "metadata": {},
   "outputs": [
    {
     "name": "stdout",
     "output_type": "stream",
     "text": [
      "r2 score :0.7590469509926828\n",
      "mean_absolute_error :5188.123123386388\n",
      "mean_squared_error :48292026.563301474\n",
      "max_error :15004.025637961164\n"
     ]
    }
   ],
   "source": [
    "print(f'r2 score :{r2_score(y_test, Y_predict)}')\n",
    "print(f'mean_absolute_error :{mean_absolute_error(y_test, Y_predict)}')\n",
    "print(f'mean_squared_error :{mean_squared_error(y_test, Y_predict)}')\n",
    "print(f'max_error :{max_error(y_test, Y_predict)}')\n"
   ]
  },
  {
   "cell_type": "code",
   "execution_count": 69,
   "metadata": {},
   "outputs": [
    {
     "data": {
      "image/png": "[encoded data removed]",
      "text/plain": [
       "<Figure size 1000x600 with 1 Axes>"
      ]
     },
     "metadata": {},
     "output_type": "display_data"
    }
   ],
   "source": [
    "plt.figure(figsize=(10, 6))\n",
    "plt.scatter(x_test['mmr'], y_test, color='green', label='Actual price of car')\n",
    "plt.scatter(x_test['mmr'], Y_predict, color='red', label='Predicted price of car', s=110)\n",
    "plt.xlabel('MMR')\n",
    "plt.ylabel('Selling price')\n",
    "plt.title('MMR (Market Price) vs Selling Price')\n",
    "\n",
    "plt.grid()\n",
    "plt.legend()\n",
    "plt.savefig(\"./Graph/2.actual_vs_predicted.png\")\n",
    "plt.show()"
   ]
  },
  {
   "cell_type": "code",
   "execution_count": 70,
   "metadata": {},
   "outputs": [
    {
     "data": {
      "image/png": "[encoded data removed]",
      "text/plain": [
       "<Figure size 1000x600 with 1 Axes>"
      ]
     },
     "metadata": {},
     "output_type": "display_data"
    }
   ],
   "source": [
    "plt.figure(figsize=(10, 6))\n",
    "plt.scatter(x_test['mmr'], y_test, color='green', label='Actual price of car')\n",
    "plt.plot (x_test['mmr'], Y_predict, color='red', label='Predicted price of car')\n",
    "\n",
    "plt.xlabel('MMR')\n",
    "plt.ylabel('Selling price')\n",
    "plt.title('MMR (Market Price) vs Selling Price')\n",
    "\n",
    "plt.grid()\n",
    "plt.legend()\n",
    "plt.savefig(\"./Graph/2.mmr_vs_sellingprice_regression.png\")\n",
    "plt.show()"
   ]
  },
  {
   "cell_type": "code",
   "execution_count": null,
   "metadata": {},
   "outputs": [],
   "source": []
  }
 ],
 "metadata": {
  "kernelspec": {
   "display_name": "Python 3",
   "language": "python",
   "name": "python3"
  },
  "language_info": {
   "codemirror_mode": {
    "name": "ipython",
    "version": 3
   },
   "file_extension": ".py",
   "mimetype": "text/x-python",
   "name": "python",
   "nbconvert_exporter": "python",
   "pygments_lexer": "ipython3",
   "version": "3.12.3"
  }
 },
 "nbformat": 4,
 "nbformat_minor": 2
}
