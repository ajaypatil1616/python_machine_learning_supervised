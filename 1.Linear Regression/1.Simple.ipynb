{
 "cells": [
  {
   "cell_type": "code",
   "execution_count": 1,
   "metadata": {},
   "outputs": [],
   "source": [
    "import pandas as pd\n",
    "import numpy as np\n",
    "import matplotlib.pyplot as plt\n",
    "import seaborn as sns \n",
    "import time\n",
    "\n",
    "from sklearn.preprocessing import StandardScaler\n",
    "from sklearn.impute import SimpleImputer\n",
    "from sklearn.model_selection import train_test_split, cross_val_score\n",
    "from sklearn.linear_model import LinearRegression \n",
    "from sklearn.metrics import mean_absolute_error, mean_squared_error,r2_score,max_error\n"
   ]
  },
  {
   "cell_type": "code",
   "execution_count": 2,
   "metadata": {},
   "outputs": [
    {
     "data": {
      "text/html": [
       "<div>\n",
       "<style scoped>\n",
       "    .dataframe tbody tr th:only-of-type {\n",
       "        vertical-align: middle;\n",
       "    }\n",
       "\n",
       "    .dataframe tbody tr th {\n",
       "        vertical-align: top;\n",
       "    }\n",
       "\n",
       "    .dataframe thead th {\n",
       "        text-align: right;\n",
       "    }\n",
       "</style>\n",
       "<table border=\"1\" class=\"dataframe\">\n",
       "  <thead>\n",
       "    <tr style=\"text-align: right;\">\n",
       "      <th></th>\n",
       "      <th>year</th>\n",
       "      <th>make</th>\n",
       "      <th>model</th>\n",
       "      <th>trim</th>\n",
       "      <th>body</th>\n",
       "      <th>transmission</th>\n",
       "      <th>vin</th>\n",
       "      <th>state</th>\n",
       "      <th>condition</th>\n",
       "      <th>odometer</th>\n",
       "      <th>color</th>\n",
       "      <th>interior</th>\n",
       "      <th>seller</th>\n",
       "      <th>mmr</th>\n",
       "      <th>sellingprice</th>\n",
       "      <th>sale_day</th>\n",
       "      <th>sale_date</th>\n",
       "    </tr>\n",
       "  </thead>\n",
       "  <tbody>\n",
       "    <tr>\n",
       "      <th>0</th>\n",
       "      <td>2015</td>\n",
       "      <td>Chevrolet</td>\n",
       "      <td>Impala</td>\n",
       "      <td>LTZ</td>\n",
       "      <td>Sedan</td>\n",
       "      <td>automatic</td>\n",
       "      <td>2g1165s30f9103921</td>\n",
       "      <td>ca</td>\n",
       "      <td>19.000000</td>\n",
       "      <td>14538.0</td>\n",
       "      <td>silver</td>\n",
       "      <td>black</td>\n",
       "      <td>enterprise vehicle exchange / tra / rental / t...</td>\n",
       "      <td>24300.0</td>\n",
       "      <td>7200.0</td>\n",
       "      <td>Tue</td>\n",
       "      <td>2015-07-07 09:30:00</td>\n",
       "    </tr>\n",
       "    <tr>\n",
       "      <th>1</th>\n",
       "      <td>2014</td>\n",
       "      <td>BMW</td>\n",
       "      <td>5 Series</td>\n",
       "      <td>528i</td>\n",
       "      <td>Sedan</td>\n",
       "      <td>automatic</td>\n",
       "      <td>wba5a5c51ed501631</td>\n",
       "      <td>ca</td>\n",
       "      <td>29.000000</td>\n",
       "      <td>25969.0</td>\n",
       "      <td>black</td>\n",
       "      <td>black</td>\n",
       "      <td>financial services remarketing (lease)</td>\n",
       "      <td>34200.0</td>\n",
       "      <td>30000.0</td>\n",
       "      <td>Tue</td>\n",
       "      <td>2015-02-03 04:30:00</td>\n",
       "    </tr>\n",
       "    <tr>\n",
       "      <th>2</th>\n",
       "      <td>2014</td>\n",
       "      <td>Chevrolet</td>\n",
       "      <td>Camaro</td>\n",
       "      <td>LT</td>\n",
       "      <td>Convertible</td>\n",
       "      <td>automatic</td>\n",
       "      <td>2g1fb3d31e9134662</td>\n",
       "      <td>ca</td>\n",
       "      <td>30.672365</td>\n",
       "      <td>33450.0</td>\n",
       "      <td>black</td>\n",
       "      <td>black</td>\n",
       "      <td>avis rac/san leandro</td>\n",
       "      <td>20100.0</td>\n",
       "      <td>14700.0</td>\n",
       "      <td>Tue</td>\n",
       "      <td>2014-12-16 12:00:00</td>\n",
       "    </tr>\n",
       "    <tr>\n",
       "      <th>3</th>\n",
       "      <td>2015</td>\n",
       "      <td>Audi</td>\n",
       "      <td>A3</td>\n",
       "      <td>1.8 TFSI Premium</td>\n",
       "      <td>Sedan</td>\n",
       "      <td>automatic</td>\n",
       "      <td>wauacgff7f1002327</td>\n",
       "      <td>ca</td>\n",
       "      <td>49.000000</td>\n",
       "      <td>5826.0</td>\n",
       "      <td>gray</td>\n",
       "      <td>black</td>\n",
       "      <td>audi north scottsdale</td>\n",
       "      <td>24000.0</td>\n",
       "      <td>23750.0</td>\n",
       "      <td>Thu</td>\n",
       "      <td>2014-12-18 12:30:00</td>\n",
       "    </tr>\n",
       "    <tr>\n",
       "      <th>4</th>\n",
       "      <td>2014</td>\n",
       "      <td>BMW</td>\n",
       "      <td>6 Series</td>\n",
       "      <td>650i</td>\n",
       "      <td>Convertible</td>\n",
       "      <td>automatic</td>\n",
       "      <td>wbayp9c57ed169262</td>\n",
       "      <td>ca</td>\n",
       "      <td>38.000000</td>\n",
       "      <td>10736.0</td>\n",
       "      <td>black</td>\n",
       "      <td>black</td>\n",
       "      <td>the hertz corporation</td>\n",
       "      <td>67000.0</td>\n",
       "      <td>65000.0</td>\n",
       "      <td>Tue</td>\n",
       "      <td>2015-01-06 12:30:00</td>\n",
       "    </tr>\n",
       "  </tbody>\n",
       "</table>\n",
       "</div>"
      ],
      "text/plain": [
       "   year       make     model              trim         body transmission  \\\n",
       "0  2015  Chevrolet    Impala               LTZ        Sedan    automatic   \n",
       "1  2014        BMW  5 Series              528i        Sedan    automatic   \n",
       "2  2014  Chevrolet    Camaro                LT  Convertible    automatic   \n",
       "3  2015       Audi        A3  1.8 TFSI Premium        Sedan    automatic   \n",
       "4  2014        BMW  6 Series              650i  Convertible    automatic   \n",
       "\n",
       "                 vin state  condition  odometer   color interior  \\\n",
       "0  2g1165s30f9103921    ca  19.000000   14538.0  silver    black   \n",
       "1  wba5a5c51ed501631    ca  29.000000   25969.0   black    black   \n",
       "2  2g1fb3d31e9134662    ca  30.672365   33450.0   black    black   \n",
       "3  wauacgff7f1002327    ca  49.000000    5826.0    gray    black   \n",
       "4  wbayp9c57ed169262    ca  38.000000   10736.0   black    black   \n",
       "\n",
       "                                              seller      mmr  sellingprice  \\\n",
       "0  enterprise vehicle exchange / tra / rental / t...  24300.0        7200.0   \n",
       "1             financial services remarketing (lease)  34200.0       30000.0   \n",
       "2                               avis rac/san leandro  20100.0       14700.0   \n",
       "3                              audi north scottsdale  24000.0       23750.0   \n",
       "4                              the hertz corporation  67000.0       65000.0   \n",
       "\n",
       "  sale_day            sale_date  \n",
       "0      Tue  2015-07-07 09:30:00  \n",
       "1      Tue  2015-02-03 04:30:00  \n",
       "2      Tue  2014-12-16 12:00:00  \n",
       "3      Thu  2014-12-18 12:30:00  \n",
       "4      Tue  2015-01-06 12:30:00  "
      ]
     },
     "execution_count": 2,
     "metadata": {},
     "output_type": "execute_result"
    }
   ],
   "source": [
    "### to use full dataset comment off following line\n",
    "\n",
    "# dataset = pd.read_csv(\"../0.Datasets/processed/processed_car_data.csv\")\n",
    "dataset = pd.read_csv(\"../0.Datasets/processed/sliced_car_data.csv\")\n",
    "dataset.head()"
   ]
  },
  {
   "cell_type": "code",
   "execution_count": 3,
   "metadata": {},
   "outputs": [
    {
     "data": {
      "text/plain": [
       "0    24300.0\n",
       "1    34200.0\n",
       "2    20100.0\n",
       "3    24000.0\n",
       "4    67000.0\n",
       "Name: mmr, dtype: float64"
      ]
     },
     "execution_count": 3,
     "metadata": {},
     "output_type": "execute_result"
    }
   ],
   "source": [
    "x = dataset['mmr']\n",
    "x.head()"
   ]
  },
  {
   "cell_type": "code",
   "execution_count": 4,
   "metadata": {},
   "outputs": [
    {
     "data": {
      "text/plain": [
       "0     7200.0\n",
       "1    30000.0\n",
       "2    14700.0\n",
       "3    23750.0\n",
       "4    65000.0\n",
       "Name: sellingprice, dtype: float64"
      ]
     },
     "execution_count": 4,
     "metadata": {},
     "output_type": "execute_result"
    }
   ],
   "source": [
    "y = dataset['sellingprice']\n",
    "y.head()"
   ]
  },
  {
   "cell_type": "code",
   "execution_count": 5,
   "metadata": {},
   "outputs": [
    {
     "name": "stdout",
     "output_type": "stream",
     "text": [
      "<class 'numpy.ndarray'>\n",
      "<class 'numpy.ndarray'>\n"
     ]
    }
   ],
   "source": [
    "imp = SimpleImputer(missing_values=np.nan, strategy='mean')\n",
    "x = x.values.reshape(-1, 1)\n",
    "x = imp.fit_transform(x)\n",
    "print(type(x))\n",
    "\n",
    "\n",
    "y = y.values.reshape(-1, 1)\n",
    "y = imp.fit_transform(y)\n",
    "y = y.reshape(-1)\n",
    "print(type(y))\n"
   ]
  },
  {
   "cell_type": "code",
   "execution_count": 83,
   "metadata": {},
   "outputs": [],
   "source": [
    "x_train, x_test, y_train, y_test = train_test_split(x,y, test_size=0.3, random_state=0)"
   ]
  },
  {
   "cell_type": "code",
   "execution_count": 84,
   "metadata": {},
   "outputs": [],
   "source": [
    "scalar = StandardScaler()\n",
    "x_train_scaled = scalar.fit_transform(x_train)\n",
    "x_test_scaled = scalar.transform(x_test)"
   ]
  },
  {
   "cell_type": "code",
   "execution_count": 85,
   "metadata": {},
   "outputs": [
    {
     "data": {
      "text/plain": [
       "array([[ 0.01594149],\n",
       "       [ 0.92123843],\n",
       "       [ 2.21002922],\n",
       "       [-0.73847263],\n",
       "       [-1.04966846],\n",
       "       [-0.70075193],\n",
       "       [-0.60645016],\n",
       "       [ 0.02851506],\n",
       "       [ 1.60021114],\n",
       "       [ 1.0532609 ],\n",
       "       [-0.49328804],\n",
       "       [-0.47442769],\n",
       "       [-1.05909863],\n",
       "       [-0.70703871]])"
      ]
     },
     "execution_count": 85,
     "metadata": {},
     "output_type": "execute_result"
    }
   ],
   "source": [
    "x_train_scaled"
   ]
  },
  {
   "cell_type": "code",
   "execution_count": 86,
   "metadata": {},
   "outputs": [
    {
     "name": "stdout",
     "output_type": "stream",
     "text": [
      "execution time 0.003030538558959961\n"
     ]
    }
   ],
   "source": [
    "reg = LinearRegression()\n",
    "\n",
    "strat_time = time.time()\n",
    "reg.fit(x_train_scaled, y_train)\n",
    "end_time = time.time()\n",
    "\n",
    "print(f\"execution time {end_time - strat_time}\")"
   ]
  },
  {
   "cell_type": "code",
   "execution_count": 87,
   "metadata": {},
   "outputs": [
    {
     "data": {
      "text/plain": [
       "array([65675.93590533, 31636.8029475 , 27216.1363296 , 49540.50274999,\n",
       "        6660.03655636, 29426.46963855])"
      ]
     },
     "execution_count": 87,
     "metadata": {},
     "output_type": "execute_result"
    }
   ],
   "source": [
    "Y_predict = reg.predict(x_test_scaled)\n",
    "Y_predict"
   ]
  },
  {
   "cell_type": "code",
   "execution_count": 88,
   "metadata": {},
   "outputs": [
    {
     "data": {
      "text/plain": [
       "array([64250., 30000., 27500., 34000., 11500., 30500.])"
      ]
     },
     "execution_count": 88,
     "metadata": {},
     "output_type": "execute_result"
    }
   ],
   "source": [
    "y_test"
   ]
  },
  {
   "cell_type": "code",
   "execution_count": 89,
   "metadata": {},
   "outputs": [
    {
     "name": "stdout",
     "output_type": "stream",
     "text": [
      "r2 score :0.8176277149185321\n",
      "mean_absolute_error :4133.433179720406\n",
      "mean_squared_error :45146322.49562747\n",
      "max_error :15540.502749994572\n"
     ]
    }
   ],
   "source": [
    "print(f'r2 score :{r2_score(y_test, Y_predict)}')\n",
    "print(f'mean_absolute_error :{mean_absolute_error(y_test, Y_predict)}')\n",
    "print(f'mean_squared_error :{mean_squared_error(y_test, Y_predict)}')\n",
    "print(f'max_error :{max_error(y_test, Y_predict)}')\n"
   ]
  },
  {
   "cell_type": "code",
   "execution_count": null,
   "metadata": {},
   "outputs": [],
   "source": []
  },
  {
   "cell_type": "code",
   "execution_count": 90,
   "metadata": {},
   "outputs": [
    {
     "data": {
      "image/png": "[encoded data removed]",
      "text/plain": [
       "<Figure size 1000x600 with 1 Axes>"
      ]
     },
     "metadata": {},
     "output_type": "display_data"
    }
   ],
   "source": [
    "plt.figure(figsize=(10,6))\n",
    "\n",
    "plt.scatter(x_test, y_test, color = 'Green', label= 'Acutal ',s=100)\n",
    "plt.plot(x_test,Y_predict, label ='Predicted Value', color ='red')\n",
    "\n",
    "plt.xlabel('MMR')\n",
    "plt.ylabel('Selling price')\n",
    "plt.title(\"MMR(Market Price) Vs Selling Price\")\n",
    "\n",
    "plt.legend()\n",
    "plt.grid()\n",
    "plt.savefig(\"./Graph/1._mmr_vs_sellingprice_regression_line.png\")\n",
    "plt.show()"
   ]
  },
  {
   "cell_type": "code",
   "execution_count": 91,
   "metadata": {},
   "outputs": [
    {
     "data": {
      "image/png": "[encoded data removed]",
      "text/plain": [
       "<Figure size 1000x600 with 1 Axes>"
      ]
     },
     "metadata": {},
     "output_type": "display_data"
    }
   ],
   "source": [
    "plt.figure(figsize=(10,6))\n",
    "\n",
    "plt.scatter(x_test, y_test, color = 'Green', label= 'Acutal ',s=100)\n",
    "plt.scatter(x_test,Y_predict, label ='Predicted Value', color ='red')\n",
    "\n",
    "plt.xlabel('MMR')\n",
    "plt.ylabel('Selling price')\n",
    "plt.title(\"Actual VS Predicted values\")\n",
    "\n",
    "plt.legend()\n",
    "plt.grid()\n",
    "plt.savefig(\"./Graph/1.actual_vs_predicted.png\")\n",
    "plt.show()"
   ]
  },
  {
   "cell_type": "code",
   "execution_count": null,
   "metadata": {},
   "outputs": [],
   "source": []
  }
 ],
 "metadata": {
  "kernelspec": {
   "display_name": "Python 3",
   "language": "python",
   "name": "python3"
  },
  "language_info": {
   "codemirror_mode": {
    "name": "ipython",
    "version": 3
   },
   "file_extension": ".py",
   "mimetype": "text/x-python",
   "name": "python",
   "nbconvert_exporter": "python",
   "pygments_lexer": "ipython3",
   "version": "3.12.3"
  }
 },
 "nbformat": 4,
 "nbformat_minor": 2
}
