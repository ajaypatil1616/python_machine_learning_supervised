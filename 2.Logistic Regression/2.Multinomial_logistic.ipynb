{
 "cells": [
  {
   "cell_type": "code",
   "execution_count": 109,
   "metadata": {},
   "outputs": [],
   "source": [
    "import pandas as pd\n",
    "import numpy as np\n",
    "import seaborn as sns\n",
    "import matplotlib.pyplot as plt\n",
    "import time\n",
    "from sklearn.preprocessing import StandardScaler, LabelEncoder, OneHotEncoder\n",
    "from sklearn.impute import SimpleImputer\n",
    "from sklearn.metrics import classification_report, accuracy_score, f1_score, recall_score, confusion_matrix\n",
    "from sklearn.pipeline import Pipeline\n",
    "from sklearn.linear_model import LogisticRegression\n",
    "from sklearn.model_selection import train_test_split\n",
    "from sklearn.compose import ColumnTransformer"
   ]
  },
  {
   "cell_type": "code",
   "execution_count": 110,
   "metadata": {},
   "outputs": [
    {
     "data": {
      "text/html": [
       "<div>\n",
       "<style scoped>\n",
       "    .dataframe tbody tr th:only-of-type {\n",
       "        vertical-align: middle;\n",
       "    }\n",
       "\n",
       "    .dataframe tbody tr th {\n",
       "        vertical-align: top;\n",
       "    }\n",
       "\n",
       "    .dataframe thead th {\n",
       "        text-align: right;\n",
       "    }\n",
       "</style>\n",
       "<table border=\"1\" class=\"dataframe\">\n",
       "  <thead>\n",
       "    <tr style=\"text-align: right;\">\n",
       "      <th></th>\n",
       "      <th>year</th>\n",
       "      <th>make</th>\n",
       "      <th>model</th>\n",
       "      <th>trim</th>\n",
       "      <th>body</th>\n",
       "      <th>transmission</th>\n",
       "      <th>vin</th>\n",
       "      <th>state</th>\n",
       "      <th>condition</th>\n",
       "      <th>odometer</th>\n",
       "      <th>color</th>\n",
       "      <th>interior</th>\n",
       "      <th>seller</th>\n",
       "      <th>mmr</th>\n",
       "      <th>sellingprice</th>\n",
       "      <th>sale_day</th>\n",
       "      <th>sale_date</th>\n",
       "    </tr>\n",
       "  </thead>\n",
       "  <tbody>\n",
       "    <tr>\n",
       "      <th>0</th>\n",
       "      <td>2015</td>\n",
       "      <td>Chevrolet</td>\n",
       "      <td>Impala</td>\n",
       "      <td>LTZ</td>\n",
       "      <td>Sedan</td>\n",
       "      <td>automatic</td>\n",
       "      <td>2g1165s30f9103921</td>\n",
       "      <td>ca</td>\n",
       "      <td>19.000000</td>\n",
       "      <td>14538.0</td>\n",
       "      <td>silver</td>\n",
       "      <td>black</td>\n",
       "      <td>enterprise vehicle exchange / tra / rental / t...</td>\n",
       "      <td>24300.0</td>\n",
       "      <td>7200.0</td>\n",
       "      <td>Tue</td>\n",
       "      <td>2015-07-07 09:30:00</td>\n",
       "    </tr>\n",
       "    <tr>\n",
       "      <th>1</th>\n",
       "      <td>2014</td>\n",
       "      <td>BMW</td>\n",
       "      <td>5 Series</td>\n",
       "      <td>528i</td>\n",
       "      <td>Sedan</td>\n",
       "      <td>automatic</td>\n",
       "      <td>wba5a5c51ed501631</td>\n",
       "      <td>ca</td>\n",
       "      <td>29.000000</td>\n",
       "      <td>25969.0</td>\n",
       "      <td>black</td>\n",
       "      <td>black</td>\n",
       "      <td>financial services remarketing (lease)</td>\n",
       "      <td>34200.0</td>\n",
       "      <td>30000.0</td>\n",
       "      <td>Tue</td>\n",
       "      <td>2015-02-03 04:30:00</td>\n",
       "    </tr>\n",
       "    <tr>\n",
       "      <th>2</th>\n",
       "      <td>2014</td>\n",
       "      <td>Chevrolet</td>\n",
       "      <td>Camaro</td>\n",
       "      <td>LT</td>\n",
       "      <td>Convertible</td>\n",
       "      <td>automatic</td>\n",
       "      <td>2g1fb3d31e9134662</td>\n",
       "      <td>ca</td>\n",
       "      <td>30.672365</td>\n",
       "      <td>33450.0</td>\n",
       "      <td>black</td>\n",
       "      <td>black</td>\n",
       "      <td>avis rac/san leandro</td>\n",
       "      <td>20100.0</td>\n",
       "      <td>14700.0</td>\n",
       "      <td>Tue</td>\n",
       "      <td>2014-12-16 12:00:00</td>\n",
       "    </tr>\n",
       "    <tr>\n",
       "      <th>3</th>\n",
       "      <td>2015</td>\n",
       "      <td>Audi</td>\n",
       "      <td>A3</td>\n",
       "      <td>1.8 TFSI Premium</td>\n",
       "      <td>Sedan</td>\n",
       "      <td>automatic</td>\n",
       "      <td>wauacgff7f1002327</td>\n",
       "      <td>ca</td>\n",
       "      <td>49.000000</td>\n",
       "      <td>5826.0</td>\n",
       "      <td>gray</td>\n",
       "      <td>black</td>\n",
       "      <td>audi north scottsdale</td>\n",
       "      <td>24000.0</td>\n",
       "      <td>23750.0</td>\n",
       "      <td>Thu</td>\n",
       "      <td>2014-12-18 12:30:00</td>\n",
       "    </tr>\n",
       "    <tr>\n",
       "      <th>4</th>\n",
       "      <td>2014</td>\n",
       "      <td>BMW</td>\n",
       "      <td>6 Series</td>\n",
       "      <td>650i</td>\n",
       "      <td>Convertible</td>\n",
       "      <td>automatic</td>\n",
       "      <td>wbayp9c57ed169262</td>\n",
       "      <td>ca</td>\n",
       "      <td>38.000000</td>\n",
       "      <td>10736.0</td>\n",
       "      <td>black</td>\n",
       "      <td>black</td>\n",
       "      <td>the hertz corporation</td>\n",
       "      <td>67000.0</td>\n",
       "      <td>65000.0</td>\n",
       "      <td>Tue</td>\n",
       "      <td>2015-01-06 12:30:00</td>\n",
       "    </tr>\n",
       "  </tbody>\n",
       "</table>\n",
       "</div>"
      ],
      "text/plain": [
       "   year       make     model              trim         body transmission  \\\n",
       "0  2015  Chevrolet    Impala               LTZ        Sedan    automatic   \n",
       "1  2014        BMW  5 Series              528i        Sedan    automatic   \n",
       "2  2014  Chevrolet    Camaro                LT  Convertible    automatic   \n",
       "3  2015       Audi        A3  1.8 TFSI Premium        Sedan    automatic   \n",
       "4  2014        BMW  6 Series              650i  Convertible    automatic   \n",
       "\n",
       "                 vin state  condition  odometer   color interior  \\\n",
       "0  2g1165s30f9103921    ca  19.000000   14538.0  silver    black   \n",
       "1  wba5a5c51ed501631    ca  29.000000   25969.0   black    black   \n",
       "2  2g1fb3d31e9134662    ca  30.672365   33450.0   black    black   \n",
       "3  wauacgff7f1002327    ca  49.000000    5826.0    gray    black   \n",
       "4  wbayp9c57ed169262    ca  38.000000   10736.0   black    black   \n",
       "\n",
       "                                              seller      mmr  sellingprice  \\\n",
       "0  enterprise vehicle exchange / tra / rental / t...  24300.0        7200.0   \n",
       "1             financial services remarketing (lease)  34200.0       30000.0   \n",
       "2                               avis rac/san leandro  20100.0       14700.0   \n",
       "3                              audi north scottsdale  24000.0       23750.0   \n",
       "4                              the hertz corporation  67000.0       65000.0   \n",
       "\n",
       "  sale_day            sale_date  \n",
       "0      Tue  2015-07-07 09:30:00  \n",
       "1      Tue  2015-02-03 04:30:00  \n",
       "2      Tue  2014-12-16 12:00:00  \n",
       "3      Thu  2014-12-18 12:30:00  \n",
       "4      Tue  2015-01-06 12:30:00  "
      ]
     },
     "execution_count": 110,
     "metadata": {},
     "output_type": "execute_result"
    }
   ],
   "source": [
    "# df = pd.read_csv(\"../0.Datasets/processed/processed_car_data.csv\").iloc[:1000]\n",
    "df = pd.read_csv(\"../0.Datasets/processed/sliced_car_data.csv\")\n",
    "df.head()"
   ]
  },
  {
   "cell_type": "code",
   "execution_count": 111,
   "metadata": {},
   "outputs": [
    {
     "data": {
      "text/html": [
       "<div>\n",
       "<style scoped>\n",
       "    .dataframe tbody tr th:only-of-type {\n",
       "        vertical-align: middle;\n",
       "    }\n",
       "\n",
       "    .dataframe tbody tr th {\n",
       "        vertical-align: top;\n",
       "    }\n",
       "\n",
       "    .dataframe thead th {\n",
       "        text-align: right;\n",
       "    }\n",
       "</style>\n",
       "<table border=\"1\" class=\"dataframe\">\n",
       "  <thead>\n",
       "    <tr style=\"text-align: right;\">\n",
       "      <th></th>\n",
       "      <th>mmr</th>\n",
       "      <th>sellingprice</th>\n",
       "      <th>condition</th>\n",
       "    </tr>\n",
       "  </thead>\n",
       "  <tbody>\n",
       "    <tr>\n",
       "      <th>0</th>\n",
       "      <td>24300.0</td>\n",
       "      <td>7200.0</td>\n",
       "      <td>19.000000</td>\n",
       "    </tr>\n",
       "    <tr>\n",
       "      <th>1</th>\n",
       "      <td>34200.0</td>\n",
       "      <td>30000.0</td>\n",
       "      <td>29.000000</td>\n",
       "    </tr>\n",
       "    <tr>\n",
       "      <th>2</th>\n",
       "      <td>20100.0</td>\n",
       "      <td>14700.0</td>\n",
       "      <td>30.672365</td>\n",
       "    </tr>\n",
       "    <tr>\n",
       "      <th>3</th>\n",
       "      <td>24000.0</td>\n",
       "      <td>23750.0</td>\n",
       "      <td>49.000000</td>\n",
       "    </tr>\n",
       "    <tr>\n",
       "      <th>4</th>\n",
       "      <td>67000.0</td>\n",
       "      <td>65000.0</td>\n",
       "      <td>38.000000</td>\n",
       "    </tr>\n",
       "    <tr>\n",
       "      <th>5</th>\n",
       "      <td>15150.0</td>\n",
       "      <td>8500.0</td>\n",
       "      <td>30.672365</td>\n",
       "    </tr>\n",
       "    <tr>\n",
       "      <th>6</th>\n",
       "      <td>32100.0</td>\n",
       "      <td>32500.0</td>\n",
       "      <td>42.000000</td>\n",
       "    </tr>\n",
       "    <tr>\n",
       "      <th>7</th>\n",
       "      <td>32300.0</td>\n",
       "      <td>32500.0</td>\n",
       "      <td>48.000000</td>\n",
       "    </tr>\n",
       "    <tr>\n",
       "      <th>8</th>\n",
       "      <td>50400.0</td>\n",
       "      <td>34000.0</td>\n",
       "      <td>30.672365</td>\n",
       "    </tr>\n",
       "    <tr>\n",
       "      <th>9</th>\n",
       "      <td>22200.0</td>\n",
       "      <td>19500.0</td>\n",
       "      <td>42.000000</td>\n",
       "    </tr>\n",
       "    <tr>\n",
       "      <th>10</th>\n",
       "      <td>11600.0</td>\n",
       "      <td>11500.0</td>\n",
       "      <td>42.000000</td>\n",
       "    </tr>\n",
       "    <tr>\n",
       "      <th>11</th>\n",
       "      <td>48600.0</td>\n",
       "      <td>47500.0</td>\n",
       "      <td>42.000000</td>\n",
       "    </tr>\n",
       "    <tr>\n",
       "      <th>12</th>\n",
       "      <td>20600.0</td>\n",
       "      <td>20750.0</td>\n",
       "      <td>5.000000</td>\n",
       "    </tr>\n",
       "    <tr>\n",
       "      <th>13</th>\n",
       "      <td>46500.0</td>\n",
       "      <td>44500.0</td>\n",
       "      <td>38.000000</td>\n",
       "    </tr>\n",
       "    <tr>\n",
       "      <th>14</th>\n",
       "      <td>20700.0</td>\n",
       "      <td>21000.0</td>\n",
       "      <td>44.000000</td>\n",
       "    </tr>\n",
       "    <tr>\n",
       "      <th>15</th>\n",
       "      <td>15000.0</td>\n",
       "      <td>9200.0</td>\n",
       "      <td>2.000000</td>\n",
       "    </tr>\n",
       "    <tr>\n",
       "      <th>16</th>\n",
       "      <td>57300.0</td>\n",
       "      <td>59900.0</td>\n",
       "      <td>45.000000</td>\n",
       "    </tr>\n",
       "    <tr>\n",
       "      <th>17</th>\n",
       "      <td>32200.0</td>\n",
       "      <td>30500.0</td>\n",
       "      <td>5.000000</td>\n",
       "    </tr>\n",
       "    <tr>\n",
       "      <th>18</th>\n",
       "      <td>65000.0</td>\n",
       "      <td>64250.0</td>\n",
       "      <td>38.000000</td>\n",
       "    </tr>\n",
       "    <tr>\n",
       "      <th>19</th>\n",
       "      <td>30200.0</td>\n",
       "      <td>27500.0</td>\n",
       "      <td>45.000000</td>\n",
       "    </tr>\n",
       "  </tbody>\n",
       "</table>\n",
       "</div>"
      ],
      "text/plain": [
       "        mmr  sellingprice  condition\n",
       "0   24300.0        7200.0  19.000000\n",
       "1   34200.0       30000.0  29.000000\n",
       "2   20100.0       14700.0  30.672365\n",
       "3   24000.0       23750.0  49.000000\n",
       "4   67000.0       65000.0  38.000000\n",
       "5   15150.0        8500.0  30.672365\n",
       "6   32100.0       32500.0  42.000000\n",
       "7   32300.0       32500.0  48.000000\n",
       "8   50400.0       34000.0  30.672365\n",
       "9   22200.0       19500.0  42.000000\n",
       "10  11600.0       11500.0  42.000000\n",
       "11  48600.0       47500.0  42.000000\n",
       "12  20600.0       20750.0   5.000000\n",
       "13  46500.0       44500.0  38.000000\n",
       "14  20700.0       21000.0  44.000000\n",
       "15  15000.0        9200.0   2.000000\n",
       "16  57300.0       59900.0  45.000000\n",
       "17  32200.0       30500.0   5.000000\n",
       "18  65000.0       64250.0  38.000000\n",
       "19  30200.0       27500.0  45.000000"
      ]
     },
     "execution_count": 111,
     "metadata": {},
     "output_type": "execute_result"
    }
   ],
   "source": [
    "x = df[['mmr', 'sellingprice','condition']]\n",
    "x"
   ]
  },
  {
   "cell_type": "code",
   "execution_count": 112,
   "metadata": {},
   "outputs": [
    {
     "data": {
      "text/plain": [
       "0     Chevrolet\n",
       "1           BMW\n",
       "2     Chevrolet\n",
       "3          Audi\n",
       "4           BMW\n",
       "5       Hyundai\n",
       "6         Volvo\n",
       "7         Volvo\n",
       "8           BMW\n",
       "9     Chevrolet\n",
       "10    Chevrolet\n",
       "11         Audi\n",
       "12          Kia\n",
       "13         Audi\n",
       "14          Kia\n",
       "15        Buick\n",
       "16    Chevrolet\n",
       "17          BMW\n",
       "18          BMW\n",
       "19          BMW\n",
       "Name: make, dtype: object"
      ]
     },
     "execution_count": 112,
     "metadata": {},
     "output_type": "execute_result"
    }
   ],
   "source": [
    "y = df['make']\n",
    "y"
   ]
  },
  {
   "cell_type": "code",
   "execution_count": 113,
   "metadata": {},
   "outputs": [],
   "source": [
    "x_train,  x_test,y_train, y_test = train_test_split(x, y, test_size=0.3, random_state= 42)"
   ]
  },
  {
   "cell_type": "code",
   "execution_count": 114,
   "metadata": {},
   "outputs": [
    {
     "name": "stderr",
     "output_type": "stream",
     "text": [
      "c:\\Users\\AjayPatil\\AppData\\Local\\Programs\\Python\\Python312\\Lib\\site-packages\\sklearn\\linear_model\\_logistic.py:1247: FutureWarning: 'multi_class' was deprecated in version 1.5 and will be removed in 1.7. From then on, it will always use 'multinomial'. Leave it to its default value to avoid this warning.\n",
      "  warnings.warn(\n"
     ]
    },
    {
     "name": "stdout",
     "output_type": "stream",
     "text": [
      "execution time 0.40714383125305176\n"
     ]
    },
    {
     "name": "stderr",
     "output_type": "stream",
     "text": [
      "c:\\Users\\AjayPatil\\AppData\\Local\\Programs\\Python\\Python312\\Lib\\site-packages\\sklearn\\linear_model\\_logistic.py:469: ConvergenceWarning: lbfgs failed to converge (status=1):\n",
      "STOP: TOTAL NO. of ITERATIONS REACHED LIMIT.\n",
      "\n",
      "Increase the number of iterations (max_iter) or scale the data as shown in:\n",
      "    https://scikit-learn.org/stable/modules/preprocessing.html\n",
      "Please also refer to the documentation for alternative solver options:\n",
      "    https://scikit-learn.org/stable/modules/linear_model.html#logistic-regression\n",
      "  n_iter_i = _check_optimize_result(\n"
     ]
    }
   ],
   "source": [
    "log_reg = LogisticRegression(multi_class='multinomial', max_iter= 1000, solver='lbfgs')\n",
    "\n",
    "strat_time = time.time()\n",
    "\n",
    "log_reg.fit(x_train, y_train)\n",
    "\n",
    "end_time = time.time()\n",
    "\n",
    "print(f\"execution time {end_time - strat_time}\")\n",
    "\n"
   ]
  },
  {
   "cell_type": "code",
   "execution_count": 115,
   "metadata": {},
   "outputs": [
    {
     "data": {
      "text/plain": [
       "array(['BMW', 'BMW', 'BMW', 'BMW', 'BMW', 'Chevrolet'], dtype=object)"
      ]
     },
     "execution_count": 115,
     "metadata": {},
     "output_type": "execute_result"
    }
   ],
   "source": [
    "ypredict = log_reg.predict(x_test)\n",
    "ypredict"
   ]
  },
  {
   "cell_type": "code",
   "execution_count": 116,
   "metadata": {},
   "outputs": [
    {
     "data": {
      "text/plain": [
       "0     Chevrolet\n",
       "17          BMW\n",
       "15        Buick\n",
       "1           BMW\n",
       "8           BMW\n",
       "5       Hyundai\n",
       "Name: make, dtype: object"
      ]
     },
     "execution_count": 116,
     "metadata": {},
     "output_type": "execute_result"
    }
   ],
   "source": [
    "y_test"
   ]
  },
  {
   "cell_type": "code",
   "execution_count": 117,
   "metadata": {},
   "outputs": [
    {
     "name": "stdout",
     "output_type": "stream",
     "text": [
      "0.5\n"
     ]
    }
   ],
   "source": [
    "print(accuracy_score(y_test, ypredict))"
   ]
  },
  {
   "cell_type": "code",
   "execution_count": 118,
   "metadata": {},
   "outputs": [
    {
     "data": {
      "text/plain": [
       "array([[3, 0, 0, 0],\n",
       "       [1, 0, 0, 0],\n",
       "       [1, 0, 0, 0],\n",
       "       [0, 0, 1, 0]], dtype=int64)"
      ]
     },
     "execution_count": 118,
     "metadata": {},
     "output_type": "execute_result"
    }
   ],
   "source": [
    "matrix = confusion_matrix(y_test, ypredict)\n",
    "matrix"
   ]
  },
  {
   "cell_type": "code",
   "execution_count": 119,
   "metadata": {},
   "outputs": [
    {
     "data": {
      "image/png": "[encoded data removed]",
      "text/plain": [
       "<Figure size 1000x700 with 2 Axes>"
      ]
     },
     "metadata": {},
     "output_type": "display_data"
    }
   ],
   "source": [
    "plt.figure(figsize=(10, 7))\n",
    "sns.heatmap(matrix, annot=True, fmt='d', cmap='coolwarm', xticklabels=log_reg.classes_, yticklabels=log_reg.classes_)\n",
    "plt.xlabel('Predicted')\n",
    "plt.ylabel('Actual')\n",
    "plt.title('Confusion Matrix for Car Making prediction')\n",
    "plt.show()"
   ]
  },
  {
   "cell_type": "code",
   "execution_count": 120,
   "metadata": {},
   "outputs": [
    {
     "name": "stdout",
     "output_type": "stream",
     "text": [
      "{'BMW': {'precision': 0.6, 'recall': 1.0, 'f1-score': 0.75, 'support': 3.0}, 'Buick': {'precision': 1.0, 'recall': 0.0, 'f1-score': 0.0, 'support': 1.0}, 'Chevrolet': {'precision': 0.0, 'recall': 0.0, 'f1-score': 0.0, 'support': 1.0}, 'Hyundai': {'precision': 1.0, 'recall': 0.0, 'f1-score': 0.0, 'support': 1.0}, 'accuracy': 0.5, 'macro avg': {'precision': 0.65, 'recall': 0.25, 'f1-score': 0.1875, 'support': 6.0}, 'weighted avg': {'precision': 0.6333333333333333, 'recall': 0.5, 'f1-score': 0.375, 'support': 6.0}}\n"
     ]
    }
   ],
   "source": [
    "report = classification_report(y_test, ypredict,  zero_division= 1, output_dict=True,)\n",
    "print(report)"
   ]
  },
  {
   "cell_type": "code",
   "execution_count": 121,
   "metadata": {},
   "outputs": [
    {
     "data": {
      "image/png": "[encoded data removed]",
      "text/plain": [
       "<Figure size 1000x700 with 2 Axes>"
      ]
     },
     "metadata": {},
     "output_type": "display_data"
    }
   ],
   "source": [
    "report = pd.DataFrame(report).transpose()\n",
    "\n",
    "plt.figure(figsize=(10, 7))\n",
    "sns.heatmap(report.iloc[:-1, :-1].T, annot=True, cmap='coolwarm')\n",
    "plt.title('Classification Report')\n",
    "plt.show()"
   ]
  },
  {
   "cell_type": "code",
   "execution_count": 122,
   "metadata": {},
   "outputs": [
    {
     "data": {
      "image/png": "[encoded data removed]",
      "text/plain": [
       "<Figure size 1000x600 with 1 Axes>"
      ]
     },
     "metadata": {},
     "output_type": "display_data"
    }
   ],
   "source": [
    "\n",
    "\n",
    "plt.figure(figsize = (10,6))\n",
    "\n",
    "plt.scatter(x_test['sellingprice'], y_test, label ='actual', color='green', s =150)\n",
    "plt.scatter(x_test['sellingprice'], ypredict, label= 'predicted', color = 'red')\n",
    "\n",
    "plt.xlabel('sellingprice')\n",
    "plt.ylabel('Comapany name')\n",
    "plt.title(\"sellingprice of vehicle VS Company name\")\n",
    "\n",
    "plt.legend()\n",
    "# plt.grid()\n",
    "plt.savefig(\"./Graph/2.company_name_on_SellPrice.png\")\n",
    "plt.show()"
   ]
  },
  {
   "cell_type": "code",
   "execution_count": null,
   "metadata": {},
   "outputs": [],
   "source": []
  },
  {
   "cell_type": "code",
   "execution_count": null,
   "metadata": {},
   "outputs": [],
   "source": []
  }
 ],
 "metadata": {
  "kernelspec": {
   "display_name": "Python 3",
   "language": "python",
   "name": "python3"
  },
  "language_info": {
   "codemirror_mode": {
    "name": "ipython",
    "version": 3
   },
   "file_extension": ".py",
   "mimetype": "text/x-python",
   "name": "python",
   "nbconvert_exporter": "python",
   "pygments_lexer": "ipython3",
   "version": "3.12.3"
  }
 },
 "nbformat": 4,
 "nbformat_minor": 2
}
